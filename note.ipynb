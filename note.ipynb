{
 "cells": [
  {
   "cell_type": "code",
   "execution_count": null,
   "metadata": {},
   "outputs": [],
   "source": [
    "Perfume\n",
    "\n",
    "  Gabrielle Essence Eau De Parfum\n",
    "\n",
    "  A floral, solar and voluptuous interpretation composed by Olivier Polge, \n",
    "  Perfumer-Creator for the House of CHANEL.\n",
    "\n",
    "  $149.99\n",
    "  $169.99\n",
    "\n",
    "  Add to Cart"
   ]
  }
 ],
 "metadata": {
  "language_info": {
   "name": "python"
  }
 },
 "nbformat": 4,
 "nbformat_minor": 2
}
